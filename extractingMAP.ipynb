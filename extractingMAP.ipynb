{
  "nbformat": 4,
  "nbformat_minor": 0,
  "metadata": {
    "colab": {
      "name": "extractingMAP.ipynb",
      "provenance": [],
      "collapsed_sections": [],
      "authorship_tag": "ABX9TyNf9sBDLeUlo4Gu5LrTTSUt",
      "include_colab_link": true
    },
    "kernelspec": {
      "name": "python3",
      "display_name": "Python 3"
    },
    "language_info": {
      "name": "python"
    }
  },
  "cells": [
    {
      "cell_type": "markdown",
      "metadata": {
        "id": "view-in-github",
        "colab_type": "text"
      },
      "source": [
        "<a href=\"https://colab.research.google.com/github/RahulParajuli/OpenMap_NETWORKx_OSMnx/blob/main/extractingMAP.ipynb\" target=\"_parent\"><img src=\"https://colab.research.google.com/assets/colab-badge.svg\" alt=\"Open In Colab\"/></a>"
      ]
    },
    {
      "cell_type": "code",
      "source": [
        "# print(column_list)\n",
        "!pip install osmnx"
      ],
      "metadata": {
        "colab": {
          "base_uri": "https://localhost:8080/",
          "height": 1000
        },
        "id": "TaGnjRvU7xzm",
        "outputId": "bb48e4a7-aa98-4544-f50d-a2e9dbb4a7ff"
      },
      "execution_count": 1,
      "outputs": [
        {
          "output_type": "stream",
          "name": "stdout",
          "text": [
            "Looking in indexes: https://pypi.org/simple, https://us-python.pkg.dev/colab-wheels/public/simple/\n",
            "Collecting osmnx\n",
            "  Downloading osmnx-1.1.2-py2.py3-none-any.whl (95 kB)\n",
            "\u001b[K     |████████████████████████████████| 95 kB 3.0 MB/s \n",
            "\u001b[?25hRequirement already satisfied: Shapely<2.0,>=1.7 in /usr/local/lib/python3.7/dist-packages (from osmnx) (1.8.2)\n",
            "Collecting matplotlib>=3.4\n",
            "  Downloading matplotlib-3.5.2-cp37-cp37m-manylinux_2_5_x86_64.manylinux1_x86_64.whl (11.2 MB)\n",
            "\u001b[K     |████████████████████████████████| 11.2 MB 23.4 MB/s \n",
            "\u001b[?25hCollecting geopandas>=0.10\n",
            "  Downloading geopandas-0.10.2-py2.py3-none-any.whl (1.0 MB)\n",
            "\u001b[K     |████████████████████████████████| 1.0 MB 58.8 MB/s \n",
            "\u001b[?25hRequirement already satisfied: networkx>=2.6 in /usr/local/lib/python3.7/dist-packages (from osmnx) (2.6.3)\n",
            "Collecting requests>=2.26\n",
            "  Downloading requests-2.28.1-py3-none-any.whl (62 kB)\n",
            "\u001b[K     |████████████████████████████████| 62 kB 1.7 MB/s \n",
            "\u001b[?25hRequirement already satisfied: numpy>=1.21 in /usr/local/lib/python3.7/dist-packages (from osmnx) (1.21.6)\n",
            "Requirement already satisfied: pandas>=1.3 in /usr/local/lib/python3.7/dist-packages (from osmnx) (1.3.5)\n",
            "Collecting Rtree>=0.9\n",
            "  Downloading Rtree-1.0.0-cp37-cp37m-manylinux_2_17_x86_64.manylinux2014_x86_64.whl (1.0 MB)\n",
            "\u001b[K     |████████████████████████████████| 1.0 MB 56.2 MB/s \n",
            "\u001b[?25hCollecting pyproj>=3.2\n",
            "  Downloading pyproj-3.2.1-cp37-cp37m-manylinux2010_x86_64.whl (6.3 MB)\n",
            "\u001b[K     |████████████████████████████████| 6.3 MB 43.4 MB/s \n",
            "\u001b[?25hCollecting fiona>=1.8\n",
            "  Downloading Fiona-1.8.21-cp37-cp37m-manylinux2014_x86_64.whl (16.7 MB)\n",
            "\u001b[K     |████████████████████████████████| 16.7 MB 39.9 MB/s \n",
            "\u001b[?25hRequirement already satisfied: attrs>=17 in /usr/local/lib/python3.7/dist-packages (from fiona>=1.8->geopandas>=0.10->osmnx) (21.4.0)\n",
            "Collecting munch\n",
            "  Downloading munch-2.5.0-py2.py3-none-any.whl (10 kB)\n",
            "Requirement already satisfied: certifi in /usr/local/lib/python3.7/dist-packages (from fiona>=1.8->geopandas>=0.10->osmnx) (2022.6.15)\n",
            "Requirement already satisfied: click>=4.0 in /usr/local/lib/python3.7/dist-packages (from fiona>=1.8->geopandas>=0.10->osmnx) (7.1.2)\n",
            "Requirement already satisfied: six>=1.7 in /usr/local/lib/python3.7/dist-packages (from fiona>=1.8->geopandas>=0.10->osmnx) (1.15.0)\n",
            "Requirement already satisfied: setuptools in /usr/local/lib/python3.7/dist-packages (from fiona>=1.8->geopandas>=0.10->osmnx) (57.4.0)\n",
            "Collecting click-plugins>=1.0\n",
            "  Downloading click_plugins-1.1.1-py2.py3-none-any.whl (7.5 kB)\n",
            "Collecting cligj>=0.5\n",
            "  Downloading cligj-0.7.2-py3-none-any.whl (7.1 kB)\n",
            "Requirement already satisfied: cycler>=0.10 in /usr/local/lib/python3.7/dist-packages (from matplotlib>=3.4->osmnx) (0.11.0)\n",
            "Requirement already satisfied: kiwisolver>=1.0.1 in /usr/local/lib/python3.7/dist-packages (from matplotlib>=3.4->osmnx) (1.4.4)\n",
            "Requirement already satisfied: pillow>=6.2.0 in /usr/local/lib/python3.7/dist-packages (from matplotlib>=3.4->osmnx) (7.1.2)\n",
            "Collecting fonttools>=4.22.0\n",
            "  Downloading fonttools-4.34.4-py3-none-any.whl (944 kB)\n",
            "\u001b[K     |████████████████████████████████| 944 kB 55.2 MB/s \n",
            "\u001b[?25hRequirement already satisfied: packaging>=20.0 in /usr/local/lib/python3.7/dist-packages (from matplotlib>=3.4->osmnx) (21.3)\n",
            "Requirement already satisfied: python-dateutil>=2.7 in /usr/local/lib/python3.7/dist-packages (from matplotlib>=3.4->osmnx) (2.8.2)\n",
            "Requirement already satisfied: pyparsing>=2.2.1 in /usr/local/lib/python3.7/dist-packages (from matplotlib>=3.4->osmnx) (3.0.9)\n",
            "Requirement already satisfied: typing-extensions in /usr/local/lib/python3.7/dist-packages (from kiwisolver>=1.0.1->matplotlib>=3.4->osmnx) (4.1.1)\n",
            "Requirement already satisfied: pytz>=2017.3 in /usr/local/lib/python3.7/dist-packages (from pandas>=1.3->osmnx) (2022.1)\n",
            "Requirement already satisfied: charset-normalizer<3,>=2 in /usr/local/lib/python3.7/dist-packages (from requests>=2.26->osmnx) (2.1.0)\n",
            "Requirement already satisfied: idna<4,>=2.5 in /usr/local/lib/python3.7/dist-packages (from requests>=2.26->osmnx) (2.10)\n",
            "Requirement already satisfied: urllib3<1.27,>=1.21.1 in /usr/local/lib/python3.7/dist-packages (from requests>=2.26->osmnx) (1.24.3)\n",
            "Installing collected packages: munch, cligj, click-plugins, pyproj, fonttools, fiona, Rtree, requests, matplotlib, geopandas, osmnx\n",
            "  Attempting uninstall: requests\n",
            "    Found existing installation: requests 2.23.0\n",
            "    Uninstalling requests-2.23.0:\n",
            "      Successfully uninstalled requests-2.23.0\n",
            "  Attempting uninstall: matplotlib\n",
            "    Found existing installation: matplotlib 3.2.2\n",
            "    Uninstalling matplotlib-3.2.2:\n",
            "      Successfully uninstalled matplotlib-3.2.2\n",
            "\u001b[31mERROR: pip's dependency resolver does not currently take into account all the packages that are installed. This behaviour is the source of the following dependency conflicts.\n",
            "google-colab 1.0.0 requires requests~=2.23.0, but you have requests 2.28.1 which is incompatible.\n",
            "datascience 0.10.6 requires folium==0.2.1, but you have folium 0.8.3 which is incompatible.\n",
            "albumentations 0.1.12 requires imgaug<0.2.7,>=0.2.5, but you have imgaug 0.2.9 which is incompatible.\u001b[0m\n",
            "Successfully installed Rtree-1.0.0 click-plugins-1.1.1 cligj-0.7.2 fiona-1.8.21 fonttools-4.34.4 geopandas-0.10.2 matplotlib-3.5.2 munch-2.5.0 osmnx-1.1.2 pyproj-3.2.1 requests-2.28.1\n"
          ]
        },
        {
          "output_type": "display_data",
          "data": {
            "application/vnd.colab-display-data+json": {
              "pip_warning": {
                "packages": [
                  "matplotlib",
                  "mpl_toolkits"
                ]
              }
            }
          },
          "metadata": {}
        }
      ]
    },
    {
      "cell_type": "code",
      "source": [
        "import IPython\n",
        "import warnings\n",
        "warnings.filterwarnings('ignore')"
      ],
      "metadata": {
        "id": "icsYGiQ_ouDI"
      },
      "execution_count": 2,
      "outputs": []
    },
    {
      "cell_type": "markdown",
      "source": [
        ""
      ],
      "metadata": {
        "id": "vrC8t7pHotxu"
      }
    },
    {
      "cell_type": "code",
      "source": [
        "import folium\n",
        "import osmnx as ox\n",
        "import networkx as nx\n",
        "\n",
        "ox.config(use_cache=True, log_console=True)\n",
        "\n",
        "place = ['Kathmandu, Nepal', 'Bhaktapur, Nepal', 'Lalitpur, Nepal']\n",
        "G = ox.graph_from_place((place), network_type='drive')\n",
        "\n",
        "G = ox.speed.add_edge_speeds(G)\n",
        "G = ox.speed.add_edge_travel_times(G)\n",
        "\n",
        "agents = [{\n",
        "    \"lat\": 85000.56,\n",
        "    \"lng\": 45000.6776,\n",
        "    \"agent_id\": 1,\n",
        "    \"agent_name\" : \"\",\n",
        "    \"agent_ph\" : \"\",\n",
        "},\n",
        "    {\n",
        "    \"lat\": 45.56,\n",
        "    \"lng\": 45.6776,\n",
        "    \"agent_id\": 2,\n",
        "    \"agent_name\" : \"\",\n",
        "    \"agent_ph\" : \"\",\n",
        "},\n",
        "    {\n",
        "    \"lat\": 50.56,\n",
        "    \"lng\": 50.6776,\n",
        "    \"agent_id\": 3,\n",
        "    \"agent_name\" : \"\",\n",
        "    \"agent_ph\" : \"\",\n",
        "},\n",
        "]\n",
        "\n",
        "for agent in agents:\n",
        "  a = (agent['lat'])\n",
        "  b = (agent['lng'])\n",
        "  rider_location = ox.get_nearest_node(G, (a , b) , method='balltree')\n",
        "\n",
        "orig = ox.get_nearest_node(G, (27.7189016, 85.3096064), method='balltree')\n",
        "dest = ox.get_nearest_node(G, (27.7132141, 85.3245858))\n",
        "\n",
        "\"\"\"#imputing travel speed and times\"\"\"\n",
        "G = ox.add_edge_speeds(G)\n",
        "  # calculate travel time (seconds) for all edges\n",
        "G = ox.add_edge_travel_times(G)\n",
        "  # see mean speed/time values by road type\n",
        "edges = ox.graph_to_gdfs(G, nodes=False)\n",
        "edges['highway'] = edges['highway'].astype(str)\n",
        "edges.groupby('highway')[['length', 'speed_kph', 'travel_time']].mean().round(1)\n",
        "\n",
        "hwy_speeds = {'residential': 35,\n",
        "                'secondary': 50,\n",
        "                'tertiary': 60}\n",
        "G = ox.add_edge_speeds(G, hwy_speeds)\n",
        "G = ox.add_edge_travel_times(G)\n",
        "route1 = nx.shortest_path(G, orig, dest, weight='length')\n",
        "route2 = nx.shortest_path(G, orig, dest, weight='travel_time')\n",
        "\n",
        "route1_length = int(sum(ox.utils_graph.get_route_edge_attributes(G, route1, 'length')))\n",
        "route2_length = int(sum(ox.utils_graph.get_route_edge_attributes(G, route2, 'length')))\n",
        "route1_time = int(sum(ox.utils_graph.get_route_edge_attributes(G, route1, 'travel_time')))\n",
        "route2_time = int(sum(ox.utils_graph.get_route_edge_attributes(G, route2, 'travel_time')))\n",
        "route1_time_minute = float(route1_time/60)\n",
        "route2_time_minute = float(route2_time/60)\n",
        "print('Route 1 is', route1_length, 'meters and takes', route1_time, 'seconds.',\" which is :\", route1_time_minute, \"minutes\")\n",
        "print('Route 2 is', route2_length, 'meters and takes', route2_time, 'seconds.',' which is :', route2_time_minute, \"minutes\")\n",
        "\n",
        "route = nx.shortest_path(G, orig, dest, 'travel_time')\n",
        "route_map = ox.plot_route_folium(G, route)\n",
        "route_map.save('test2.html')"
      ],
      "metadata": {
        "id": "1vDxZKCE70Fc",
        "colab": {
          "base_uri": "https://localhost:8080/"
        },
        "outputId": "4b0152d8-dce0-4b7a-8eb9-52ae6893533d"
      },
      "execution_count": 3,
      "outputs": [
        {
          "output_type": "stream",
          "name": "stdout",
          "text": [
            "Route 1 is 1988 meters and takes 205 seconds.  which is : 3.4166666666666665 minutes\n",
            "Route 2 is 2208 meters and takes 181 seconds.  which is : 3.0166666666666666 minutes\n"
          ]
        }
      ]
    },
    {
      "cell_type": "code",
      "source": [
        ""
      ],
      "metadata": {
        "id": "dMfkJdVaaOCn"
      },
      "execution_count": 3,
      "outputs": []
    },
    {
      "cell_type": "code",
      "source": [
        ""
      ],
      "metadata": {
        "id": "RvLImXbypA9r"
      },
      "execution_count": null,
      "outputs": []
    }
  ]
}